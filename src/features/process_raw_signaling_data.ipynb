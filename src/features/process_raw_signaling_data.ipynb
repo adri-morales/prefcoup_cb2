{
 "cells": [
  {
   "cell_type": "code",
   "execution_count": 1,
   "metadata": {},
   "outputs": [],
   "source": [
    "import pandas as pd\n",
    "import re"
   ]
  },
  {
   "cell_type": "code",
   "execution_count": 3,
   "metadata": {},
   "outputs": [],
   "source": [
    "import os\n",
    "os.chdir('/home/amorales/Documents/projects/bias_2')"
   ]
  },
  {
   "cell_type": "code",
   "execution_count": 5,
   "metadata": {},
   "outputs": [],
   "source": [
    "# Read signling data\n",
    "path = 'data/raw/alanin_scanning-cuantitative_values-emax_ec50.csv'\n",
    "signaling_df = pd.read_csv(path)\n",
    "\n",
    "# Remove mutations that are not alanin scan\n",
    "alanin_scan_mask = signaling_df.Mutant.apply(lambda x: bool(re.match('([A-Z])(\\d+)$', str(x))))\n",
    "signaling_df = signaling_df.loc[alanin_scan_mask]\n",
    "\n",
    "# Remove non usefull columns\n",
    "cols_of_interst = ['Position','Emax_avg_corr_Gi2_HU210', 'Emax_avg_corr_bArr1_HU210']\n",
    "signaling_df = signaling_df[cols_of_interst]\n",
    "\n",
    "# Change column names\n",
    "signaling_df.columns = ['position', 'gi_emax', 'barr_emax']\n",
    "\n",
    "# Set mutant number as index\n",
    "signaling_df = signaling_df.set_index('position')\n",
    "\n",
    "# Set boolean masks for biased and wt\n",
    "biased_mask = (signaling_df.barr_emax == 0) & (signaling_df.gi_emax > 0)\n",
    "wt_mask = (signaling_df.barr_emax > 0) & (signaling_df.gi_emax > 0)\n",
    "    \n",
    "# Create a field wih categorical signal information\n",
    "signaling_df['profile'] = 2\n",
    "signaling_df.loc[wt_mask, 'profile'] = 0\n",
    "signaling_df.loc[biased_mask, 'profile'] = 1\n",
    "\n",
    "# Keep only the categorical labels\n",
    "signaling_df = signaling_df[['profile']]\n",
    "\n",
    "# Remove mutants with other signaling profiles\n",
    "signaling_df = signaling_df[signaling_df.profile != 2]"
   ]
  },
  {
   "cell_type": "code",
   "execution_count": 7,
   "metadata": {},
   "outputs": [],
   "source": [
    "signaling_df.to_csv('data/interim/signaling_df.csv')"
   ]
  },
  {
   "cell_type": "code",
   "execution_count": null,
   "metadata": {},
   "outputs": [],
   "source": []
  }
 ],
 "metadata": {
  "kernelspec": {
   "display_name": "Python 3.6.15 ('pdb_bind')",
   "language": "python",
   "name": "python3"
  },
  "language_info": {
   "codemirror_mode": {
    "name": "ipython",
    "version": 3
   },
   "file_extension": ".py",
   "mimetype": "text/x-python",
   "name": "python",
   "nbconvert_exporter": "python",
   "pygments_lexer": "ipython3",
   "version": "3.6.15"
  },
  "orig_nbformat": 4,
  "vscode": {
   "interpreter": {
    "hash": "9eff194c23989b4eef10a4a6ce8e3526231fb440d8cac736b477a94d09a25a4e"
   }
  }
 },
 "nbformat": 4,
 "nbformat_minor": 2
}
